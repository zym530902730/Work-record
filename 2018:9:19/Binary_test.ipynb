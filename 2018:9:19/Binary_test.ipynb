{
 "cells": [
  {
   "cell_type": "code",
   "execution_count": 1,
   "metadata": {},
   "outputs": [],
   "source": [
    "import pandas as pd\n",
    "import numpy as np"
   ]
  },
  {
   "cell_type": "code",
   "execution_count": 12,
   "metadata": {},
   "outputs": [
    {
     "name": "stdout",
     "output_type": "stream",
     "text": [
      "(785825, 4)\n",
      "<class 'pandas.core.frame.DataFrame'>\n"
     ]
    }
   ],
   "source": [
    "#df = pd.DataFrame(pd.read_csv(\"/Users/yimingzhao/Desktop/All_101.csv\"))\n",
    "df = pd.read_csv(\"/Users/yimingzhao/Desktop/All_101.csv\")\n",
    "df.columns = ['Protein accession','Position','Seq','Label']\n",
    "print(df.shape)\n",
    "print(type(df))"
   ]
  },
  {
   "cell_type": "code",
   "execution_count": 26,
   "metadata": {},
   "outputs": [
    {
     "ename": "IndentationError",
     "evalue": "unexpected indent (<ipython-input-26-ac29ee403cb0>, line 9)",
     "output_type": "error",
     "traceback": [
      "\u001b[0;36m  File \u001b[0;32m\"<ipython-input-26-ac29ee403cb0>\"\u001b[0;36m, line \u001b[0;32m9\u001b[0m\n\u001b[0;31m    name = df.iloc[1]['Protein accession']\u001b[0m\n\u001b[0m    ^\u001b[0m\n\u001b[0;31mIndentationError\u001b[0m\u001b[0;31m:\u001b[0m unexpected indent\n"
     ]
    }
   ],
   "source": [
    "AA = 'ARNDCQEGHILKMFPSTWYV'\n",
    "encodings = []\n",
    "header = ['#']\n",
    "# for i in range(1, len(fastas[0][1]) * 20 + 1):\n",
    "# \theader.append('BINARY.F'+str(i))\n",
    "# encodings.append(header)\n",
    "\n",
    "# for i in df.iloc[1]['Seq']:\n",
    "    name = df.iloc[1]['Protein accession']\n",
    "    sequence  = df.iloc[1]['Seq']\n",
    "    code = [name]\n",
    "    for aa in sequence:\n",
    "        if aa == '-':\n",
    "            code = code + [0, 0, 0, 0, 0, 0, 0, 0, 0, 0, 0, 0, 0, 0, 0, 0, 0, 0, 0, 0]\n",
    "            continue\n",
    "        for aa1 in AA:\n",
    "            tag = 1 if aa == aa1 else 0\n",
    "            code.append(tag)\n",
    "    encodings.append(code)\n"
   ]
  },
  {
   "cell_type": "code",
   "execution_count": 10,
   "metadata": {},
   "outputs": [
    {
     "ename": "NameError",
     "evalue": "name 'encodings' is not defined",
     "output_type": "error",
     "traceback": [
      "\u001b[0;31m---------------------------------------------------------------------------\u001b[0m",
      "\u001b[0;31mNameError\u001b[0m                                 Traceback (most recent call last)",
      "\u001b[0;32m<ipython-input-10-80ac79904e7b>\u001b[0m in \u001b[0;36m<module>\u001b[0;34m()\u001b[0m\n\u001b[0;32m----> 1\u001b[0;31m \u001b[0mprint\u001b[0m\u001b[0;34m(\u001b[0m\u001b[0mencodings\u001b[0m\u001b[0;34m)\u001b[0m\u001b[0;34m\u001b[0m\u001b[0m\n\u001b[0m",
      "\u001b[0;31mNameError\u001b[0m: name 'encodings' is not defined"
     ]
    }
   ],
   "source": [
    "print(encodings)"
   ]
  },
  {
   "cell_type": "code",
   "execution_count": 24,
   "metadata": {},
   "outputs": [
    {
     "name": "stdout",
     "output_type": "stream",
     "text": [
      "A1L0T0\n",
      "__METPAAAAPAGSLFPSFLLLACGTLVAALLGAAHRLGLFYQLLHKVDKASVRHGGENVAAVLRAHGVRFIFTLVGGHISPLLVACEKLGIRVVDTRHE\n"
     ]
    }
   ],
   "source": [
    "print(df.iloc[1]['Protein accession'])\n",
    "print(df.iloc[1]['Seq'])"
   ]
  }
 ],
 "metadata": {
  "kernelspec": {
   "display_name": "Python 3",
   "language": "python",
   "name": "python3"
  },
  "language_info": {
   "codemirror_mode": {
    "name": "ipython",
    "version": 3
   },
   "file_extension": ".py",
   "mimetype": "text/x-python",
   "name": "python",
   "nbconvert_exporter": "python",
   "pygments_lexer": "ipython3",
   "version": "3.6.6"
  }
 },
 "nbformat": 4,
 "nbformat_minor": 2
}
