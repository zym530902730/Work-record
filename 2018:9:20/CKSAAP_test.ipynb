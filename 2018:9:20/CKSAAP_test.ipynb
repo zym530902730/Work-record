{
 "cells": [
  {
   "cell_type": "code",
   "execution_count": 1,
   "metadata": {},
   "outputs": [],
   "source": [
    "import re,sys,os\n",
    "\n"
   ]
  },
  {
   "cell_type": "code",
   "execution_count": 2,
   "metadata": {},
   "outputs": [],
   "source": [
    "def prosite(f):\n",
    "\td={}\n",
    "\tfor x in open(f):\n",
    "\t\tx=x.rstrip()\n",
    "\t\tm=re.search(\">(.*)\",x)\n",
    "\t\tif m:\n",
    "\t\t\tp=m.group(1)\n",
    "\t\t\td[p]={}\n",
    "\tl=[]\n",
    "\tfor x in open(\"motifs.list\"):\n",
    "\t\tx=x.rstrip()\n",
    "\t\tl.append(x)\n",
    "\tfor p in d.keys():\n",
    "\t\tfor x in l:\n",
    "\t\t\td[p][x]=0\n",
    "\t#os.system(\"./ps_scan.pl %s >%s\"%(f,\"temp_\"+f))#careful\n",
    "\tlr=[]\n",
    "\tfor x in open(\"temp_\"+f):#careful\n",
    "\t\tx=x.rstrip()\n",
    "\t\tm=re.search(\">(.*?)\\s:\\s(.*?)\\s\",x)\n",
    "\t\tif m:\n",
    "\t\t\tp=m.group(1)\n",
    "\t\t\tif not p in lr:\n",
    "\t\t\t\tlr.append(p)\n",
    "\t\t\ts=m.group(2)\n",
    "\t\t\tcontinue\n",
    "\t\td[p][s]+=1\n",
    "\t#print len(lr)\n",
    "\t#os.system(\"rm temp\")\n",
    "\treturn d"
   ]
  },
  {
   "cell_type": "code",
   "execution_count": 3,
   "metadata": {},
   "outputs": [],
   "source": [
    "def aafrequency(seq):\n",
    "\t#ACDEFGHIKLMNPQRSTVWY\n",
    "\td={}\n",
    "\tfor x in \"ACDEFGHIKLMNPQRSTVWY\":\n",
    "\t\td[x]=0.\n",
    "\tfor x in seq:\n",
    "\t\tif x in d.keys():\n",
    "\t\t\td[x]+=1\n",
    "\tfor x in d.keys():\n",
    "\t\t#d[x]=(d[x]-dmin)/float(dmax) #may need change\n",
    "\t\td[x]=d[x]/len(seq)\n",
    "\t#print len(seq)\n",
    "\treturn d\n"
   ]
  },
  {
   "cell_type": "code",
   "execution_count": 4,
   "metadata": {},
   "outputs": [],
   "source": [
    "def hodc(seq,n):\n",
    "\tl=[\"A\",\"C\",\"D\",\"E\",\"F\",\"G\",\"H\",\"I\",\"K\",\"L\",\"M\",\"N\",\"P\",\"Q\",\"R\",\"S\",\"T\",\"V\",\"W\",\"Y\"]\n",
    "\td={}\n",
    "\tfor x in l:\n",
    "\t\tfor y in l:\n",
    "\t\t\td[x+\"x\"*(n-1)+y]=0.\n",
    "\ti=0\n",
    "\twhile i<=len(seq)-n-1:\n",
    "\t\ts=seq[i]+\"x\"*(n-1)+seq[i+n]\n",
    "\t\tif s in d.keys():\n",
    "\t\t\td[s]+=1\n",
    "\t\ti+=1\n",
    "\tfor x in d.keys():\n",
    "\t\t#d[x]=d[x]/len(seq) #may need change\n",
    "\t\td[x]=d[x]/(len(seq)-n) #formatcksaap_aa2\n",
    "\treturn d\n"
   ]
  },
  {
   "cell_type": "code",
   "execution_count": 5,
   "metadata": {},
   "outputs": [],
   "source": [
    "def cksaap_aa(f):\n",
    "\td={}\n",
    "\tr={}\n",
    "\tfor x in open(f):\n",
    "\t\tx=x.rstrip()\n",
    "\t\tm=re.search(\">(.*)\",x)\n",
    "\t\tif m:\n",
    "\t\t\tp=m.group(1)\n",
    "\t\t\td[p]=\"\"\n",
    "\t\t\tcontinue\n",
    "\t\td[p]+=x\n",
    "\tfor x in d.keys():\n",
    "\t\tdll={}\n",
    "\t\tdll.update(aafrequency(d[x]))\n",
    "\t\tfor i in range(1,7):#need change\n",
    "\t\t\tdll.update(hodc(d[x],i))\n",
    "\t\tr[x]=dll\n",
    "\treturn r\n"
   ]
  },
  {
   "cell_type": "code",
   "execution_count": 7,
   "metadata": {},
   "outputs": [],
   "source": [
    "def formatcsv(f,flag,fr):\n",
    "\tdp=prosite(f)\n",
    "\tdc=cksaap_aa(f)\n",
    "\tt=\"protein\"+\"\\t\"\n",
    "\tp=dp.keys()[0]\n",
    "\tl=dp[p].keys()+dc[p].keys()\n",
    "\tfor x in l:\n",
    "\t\tt+=x+\"\\t\"\n",
    "\tt+=\"class\"\n",
    "\tif flag==\"yes\":\n",
    "\t\t#print t\n",
    "\t\tfr.write(t+\"\\n\")\n",
    "\tl=dp.keys()\n",
    "\tfor p in l:\n",
    "\t\ts=p+\"\\t\"\n",
    "\t\tlv=[]\n",
    "\t\t#te=\"protein\"+\"\\t\"\n",
    "\t\tfor x in dp[p]:\n",
    "\t\t\t#te+=x+\"\\t\"\n",
    "\t\t\t#lv.append(dp[p][x])\n",
    "\t\t\ts+=str(dp[p][x]/2342.0)+\"\\t\"\n",
    "\t\tfor x in dc[p]:\n",
    "\t\t\t#te+=x+\"\\t\"\n",
    "\t\t\t#lv.append(dc[p][x])\n",
    "\t\t\ts+=str(dc[p][x])+\"\\t\"\n",
    "\t\t#te+=\"class\"\n",
    "\t\t\"\"\"\n",
    "\t\tma=max(lv)\n",
    "\t\tmi=min(lv)\n",
    "\t\tfor v in lv:\n",
    "\t\t\tv=(v-mi)/float(ma-mi)\n",
    "\t\t\ts+=str(v)+\"\\t\"\n",
    "\t\t\"\"\"\n",
    "\t\ts+=flag\n",
    "\t\t#print te\n",
    "\t\tprint(s)\n",
    "\t\tfr.write(s+\"\\n\")\n"
   ]
  },
  {
   "cell_type": "code",
   "execution_count": 8,
   "metadata": {},
   "outputs": [
    {
     "ename": "FileNotFoundError",
     "evalue": "[Errno 2] No such file or directory: 'eff104.fasta'",
     "output_type": "error",
     "traceback": [
      "\u001b[0;31m---------------------------------------------------------------------------\u001b[0m",
      "\u001b[0;31mFileNotFoundError\u001b[0m                         Traceback (most recent call last)",
      "\u001b[0;32m<ipython-input-8-092fcb5d5d49>\u001b[0m in \u001b[0;36m<module>\u001b[0;34m()\u001b[0m\n\u001b[1;32m      1\u001b[0m \u001b[0;32mfor\u001b[0m \u001b[0mi\u001b[0m \u001b[0;32min\u001b[0m \u001b[0mrange\u001b[0m\u001b[0;34m(\u001b[0m\u001b[0;36m1\u001b[0m\u001b[0;34m,\u001b[0m\u001b[0;36m11\u001b[0m\u001b[0;34m)\u001b[0m\u001b[0;34m:\u001b[0m\u001b[0;34m\u001b[0m\u001b[0m\n\u001b[1;32m      2\u001b[0m     \u001b[0mfr\u001b[0m\u001b[0;34m=\u001b[0m\u001b[0mopen\u001b[0m\u001b[0;34m(\u001b[0m\u001b[0;34m\"pe_\"\u001b[0m\u001b[0;34m+\u001b[0m\u001b[0mstr\u001b[0m\u001b[0;34m(\u001b[0m\u001b[0mi\u001b[0m\u001b[0;34m)\u001b[0m\u001b[0;34m+\u001b[0m\u001b[0;34m\"_cksaap_aa_prosite.csv\"\u001b[0m\u001b[0;34m,\u001b[0m\u001b[0;34m\"w\"\u001b[0m\u001b[0;34m)\u001b[0m\u001b[0;34m\u001b[0m\u001b[0m\n\u001b[0;32m----> 3\u001b[0;31m     \u001b[0mformatcsv\u001b[0m\u001b[0;34m(\u001b[0m\u001b[0;34m\"eff104.fasta\"\u001b[0m\u001b[0;34m,\u001b[0m\u001b[0;34m\"yes\"\u001b[0m\u001b[0;34m,\u001b[0m\u001b[0mfr\u001b[0m\u001b[0;34m)\u001b[0m\u001b[0;34m\u001b[0m\u001b[0m\n\u001b[0m\u001b[1;32m      4\u001b[0m     \u001b[0mformatcsv\u001b[0m\u001b[0;34m(\u001b[0m\u001b[0mstr\u001b[0m\u001b[0;34m(\u001b[0m\u001b[0mi\u001b[0m\u001b[0;34m)\u001b[0m\u001b[0;34m,\u001b[0m\u001b[0;34m\"no\"\u001b[0m\u001b[0;34m,\u001b[0m\u001b[0mfr\u001b[0m\u001b[0;34m)\u001b[0m\u001b[0;34m\u001b[0m\u001b[0m\n\u001b[1;32m      5\u001b[0m     \u001b[0mfr\u001b[0m\u001b[0;34m.\u001b[0m\u001b[0mclose\u001b[0m\u001b[0;34m(\u001b[0m\u001b[0;34m)\u001b[0m\u001b[0;34m\u001b[0m\u001b[0m\n",
      "\u001b[0;32m<ipython-input-7-65bbf1013051>\u001b[0m in \u001b[0;36mformatcsv\u001b[0;34m(f, flag, fr)\u001b[0m\n\u001b[1;32m      1\u001b[0m \u001b[0;32mdef\u001b[0m \u001b[0mformatcsv\u001b[0m\u001b[0;34m(\u001b[0m\u001b[0mf\u001b[0m\u001b[0;34m,\u001b[0m\u001b[0mflag\u001b[0m\u001b[0;34m,\u001b[0m\u001b[0mfr\u001b[0m\u001b[0;34m)\u001b[0m\u001b[0;34m:\u001b[0m\u001b[0;34m\u001b[0m\u001b[0m\n\u001b[0;32m----> 2\u001b[0;31m         \u001b[0mdp\u001b[0m\u001b[0;34m=\u001b[0m\u001b[0mprosite\u001b[0m\u001b[0;34m(\u001b[0m\u001b[0mf\u001b[0m\u001b[0;34m)\u001b[0m\u001b[0;34m\u001b[0m\u001b[0m\n\u001b[0m\u001b[1;32m      3\u001b[0m         \u001b[0mdc\u001b[0m\u001b[0;34m=\u001b[0m\u001b[0mcksaap_aa\u001b[0m\u001b[0;34m(\u001b[0m\u001b[0mf\u001b[0m\u001b[0;34m)\u001b[0m\u001b[0;34m\u001b[0m\u001b[0m\n\u001b[1;32m      4\u001b[0m         \u001b[0mt\u001b[0m\u001b[0;34m=\u001b[0m\u001b[0;34m\"protein\"\u001b[0m\u001b[0;34m+\u001b[0m\u001b[0;34m\"\\t\"\u001b[0m\u001b[0;34m\u001b[0m\u001b[0m\n\u001b[1;32m      5\u001b[0m         \u001b[0mp\u001b[0m\u001b[0;34m=\u001b[0m\u001b[0mdp\u001b[0m\u001b[0;34m.\u001b[0m\u001b[0mkeys\u001b[0m\u001b[0;34m(\u001b[0m\u001b[0;34m)\u001b[0m\u001b[0;34m[\u001b[0m\u001b[0;36m0\u001b[0m\u001b[0;34m]\u001b[0m\u001b[0;34m\u001b[0m\u001b[0m\n",
      "\u001b[0;32m<ipython-input-2-fb76c4eec5e8>\u001b[0m in \u001b[0;36mprosite\u001b[0;34m(f)\u001b[0m\n\u001b[1;32m      1\u001b[0m \u001b[0;32mdef\u001b[0m \u001b[0mprosite\u001b[0m\u001b[0;34m(\u001b[0m\u001b[0mf\u001b[0m\u001b[0;34m)\u001b[0m\u001b[0;34m:\u001b[0m\u001b[0;34m\u001b[0m\u001b[0m\n\u001b[1;32m      2\u001b[0m         \u001b[0md\u001b[0m\u001b[0;34m=\u001b[0m\u001b[0;34m{\u001b[0m\u001b[0;34m}\u001b[0m\u001b[0;34m\u001b[0m\u001b[0m\n\u001b[0;32m----> 3\u001b[0;31m         \u001b[0;32mfor\u001b[0m \u001b[0mx\u001b[0m \u001b[0;32min\u001b[0m \u001b[0mopen\u001b[0m\u001b[0;34m(\u001b[0m\u001b[0mf\u001b[0m\u001b[0;34m)\u001b[0m\u001b[0;34m:\u001b[0m\u001b[0;34m\u001b[0m\u001b[0m\n\u001b[0m\u001b[1;32m      4\u001b[0m                 \u001b[0mx\u001b[0m\u001b[0;34m=\u001b[0m\u001b[0mx\u001b[0m\u001b[0;34m.\u001b[0m\u001b[0mrstrip\u001b[0m\u001b[0;34m(\u001b[0m\u001b[0;34m)\u001b[0m\u001b[0;34m\u001b[0m\u001b[0m\n\u001b[1;32m      5\u001b[0m                 \u001b[0mm\u001b[0m\u001b[0;34m=\u001b[0m\u001b[0mre\u001b[0m\u001b[0;34m.\u001b[0m\u001b[0msearch\u001b[0m\u001b[0;34m(\u001b[0m\u001b[0;34m\">(.*)\"\u001b[0m\u001b[0;34m,\u001b[0m\u001b[0mx\u001b[0m\u001b[0;34m)\u001b[0m\u001b[0;34m\u001b[0m\u001b[0m\n",
      "\u001b[0;31mFileNotFoundError\u001b[0m: [Errno 2] No such file or directory: 'eff104.fasta'"
     ]
    }
   ],
   "source": [
    "for i in range(1,11):\n",
    "    fr=open(\"pe_\"+str(i)+\"_cksaap_aa_prosite.csv\",\"w\")\n",
    "    formatcsv(\"eff104.fasta\",\"yes\",fr)\n",
    "    formatcsv(str(i),\"no\",fr)\n",
    "    fr.close()"
   ]
  }
 ],
 "metadata": {
  "kernelspec": {
   "display_name": "Python 3",
   "language": "python",
   "name": "python3"
  },
  "language_info": {
   "codemirror_mode": {
    "name": "ipython",
    "version": 3
   },
   "file_extension": ".py",
   "mimetype": "text/x-python",
   "name": "python",
   "nbconvert_exporter": "python",
   "pygments_lexer": "ipython3",
   "version": "3.6.6"
  }
 },
 "nbformat": 4,
 "nbformat_minor": 2
}
