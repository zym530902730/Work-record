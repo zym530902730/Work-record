{
 "cells": [
  {
   "cell_type": "code",
   "execution_count": 2,
   "metadata": {
    "scrolled": true
   },
   "outputs": [
    {
     "name": "stderr",
     "output_type": "stream",
     "text": [
      "Using TensorFlow backend.\n"
     ]
    }
   ],
   "source": [
    "import pandas as pd\n",
    "import numpy as np\n",
    "import keras as keras\n",
    "from keras.models import Sequential\n",
    "from keras.layers import Dense, Dropout, Activation\n",
    "from keras.optimizers import SGD"
   ]
  },
  {
   "cell_type": "code",
   "execution_count": 13,
   "metadata": {},
   "outputs": [
    {
     "name": "stdout",
     "output_type": "stream",
     "text": [
      "Epoch 1/20\n",
      "1000/1000 [==============================] - 0s 483us/step - loss: 2.4519 - acc: 0.1070\n",
      "Epoch 2/20\n",
      "1000/1000 [==============================] - 0s 80us/step - loss: 2.3605 - acc: 0.0940\n",
      "Epoch 3/20\n",
      "1000/1000 [==============================] - 0s 76us/step - loss: 2.3390 - acc: 0.1080\n",
      "Epoch 4/20\n",
      "1000/1000 [==============================] - 0s 76us/step - loss: 2.3206 - acc: 0.1010\n",
      "Epoch 5/20\n",
      "1000/1000 [==============================] - 0s 76us/step - loss: 2.3171 - acc: 0.1190\n",
      "Epoch 6/20\n",
      "1000/1000 [==============================] - 0s 78us/step - loss: 2.3053 - acc: 0.1150\n",
      "Epoch 7/20\n",
      "1000/1000 [==============================] - 0s 83us/step - loss: 2.3080 - acc: 0.1220\n",
      "Epoch 8/20\n",
      "1000/1000 [==============================] - 0s 79us/step - loss: 2.3112 - acc: 0.1140\n",
      "Epoch 9/20\n",
      "1000/1000 [==============================] - 0s 77us/step - loss: 2.3061 - acc: 0.1210\n",
      "Epoch 10/20\n",
      "1000/1000 [==============================] - 0s 75us/step - loss: 2.2998 - acc: 0.1170\n",
      "Epoch 11/20\n",
      "1000/1000 [==============================] - 0s 73us/step - loss: 2.3007 - acc: 0.1060\n",
      "Epoch 12/20\n",
      "1000/1000 [==============================] - 0s 77us/step - loss: 2.2948 - acc: 0.1210\n",
      "Epoch 13/20\n",
      "1000/1000 [==============================] - 0s 73us/step - loss: 2.2930 - acc: 0.1160\n",
      "Epoch 14/20\n",
      "1000/1000 [==============================] - 0s 74us/step - loss: 2.2977 - acc: 0.1250\n",
      "Epoch 15/20\n",
      "1000/1000 [==============================] - 0s 73us/step - loss: 2.2973 - acc: 0.1200\n",
      "Epoch 16/20\n",
      "1000/1000 [==============================] - 0s 73us/step - loss: 2.3029 - acc: 0.1120\n",
      "Epoch 17/20\n",
      "1000/1000 [==============================] - 0s 73us/step - loss: 2.2962 - acc: 0.1130\n",
      "Epoch 18/20\n",
      "1000/1000 [==============================] - 0s 74us/step - loss: 2.3006 - acc: 0.1250\n",
      "Epoch 19/20\n",
      "1000/1000 [==============================] - 0s 73us/step - loss: 2.2936 - acc: 0.1190\n",
      "Epoch 20/20\n",
      "1000/1000 [==============================] - 0s 73us/step - loss: 2.2971 - acc: 0.1240\n",
      "100/100 [==============================] - 0s 761us/step\n"
     ]
    }
   ],
   "source": [
    "x_train = np.random.random((1000, 20))\n",
    "y_train = keras.utils.to_categorical(np.random.randint(10, size=(1000, 1)), num_classes=10)\n",
    "x_test = np.random.random((100, 20))\n",
    "y_test = keras.utils.to_categorical(np.random.randint(10, size=(100, 1)), num_classes=10)\n",
    "\n",
    "model = Sequential()\n",
    "# Dense(64) is a fully-connected layer with 64 hidden units.\n",
    "# in the first layer, you must specify the expected input data shape:\n",
    "# here, 20-dimensional vectors.\n",
    "model.add(Dense(64, activation='relu', input_dim=20))\n",
    "model.add(Dropout(0.5))\n",
    "model.add(Dense(64, activation='relu'))\n",
    "model.add(Dropout(0.5))\n",
    "model.add(Dense(10, activation='softmax'))\n",
    "\n",
    "sgd = SGD(lr=0.01, decay=1e-6, momentum=0.9, nesterov=True)\n",
    "model.compile(loss='categorical_crossentropy',\n",
    "              optimizer=sgd,\n",
    "              metrics=['accuracy'])\n",
    "\n",
    "model.fit(x_train, y_train,\n",
    "          epochs=20,\n",
    "          batch_size=128)\n",
    "score = model.evaluate(x_test, y_test, batch_size=128)"
   ]
  },
  {
   "cell_type": "code",
   "execution_count": null,
   "metadata": {},
   "outputs": [],
   "source": [
    "x_train = np.random.random((100, 100, 100, 3))\n",
    "y_train = keras.utils.to_categorical(np.random.randint(10, size=(100, 1)), num_classes=10)\n",
    "x_test = np.random.random((20, 100, 100, 3))\n",
    "y_test = keras.utils.to_categorical(np.random.randint(10, size=(20, 1)), num_classes=10)\n",
    "\n",
    "model = Sequential()\n",
    "# input: 100x100 images with 3 channels -> (100, 100, 3) tensors.\n",
    "# this applies 32 convolution filters of size 3x3 each.\n",
    "model.add(Conv2D(32, (3, 3), activation='relu', input_shape=(100, 100, 3)))\n",
    "model.add(Conv2D(32, (3, 3), activation='relu'))\n",
    "model.add(MaxPooling2D(pool_size=(2, 2)))\n",
    "model.add(Dropout(0.25))\n",
    "\n",
    "model.add(Conv2D(64, (3, 3), activation='relu'))\n",
    "model.add(Conv2D(64, (3, 3), activation='relu'))\n",
    "model.add(MaxPooling2D(pool_size=(2, 2)))\n",
    "model.add(Dropout(0.25))\n",
    "\n",
    "model.add(Flatten())\n",
    "model.add(Dense(256, activation='relu'))\n",
    "model.add(Dropout(0.5))\n",
    "model.add(Dense(10, activation='softmax'))\n",
    "\n",
    "sgd = SGD(lr=0.01, decay=1e-6, momentum=0.9, nesterov=True)\n",
    "model.compile(loss='categorical_crossentropy', optimizer=sgd)\n",
    "\n",
    "model.fit(x_train, y_train, batch_size=32, epochs=10)\n",
    "score = model.evaluate(x_test, y_test, batch_size=32)"
   ]
  },
  {
   "cell_type": "code",
   "execution_count": 9,
   "metadata": {},
   "outputs": [],
   "source": [
    "\n",
    "data = np.random.random((1000, 100))\n",
    "labels = np.random.randint(101, size=(1000, 1))\n",
    "\n",
    "# Convert labels to categorical one-hot encoding\n",
    "one_hot_labels = keras.utils.to_categorical(labels, num_classes=101)\n",
    "\n",
    "# Train the model, iterating on the data in batches of 32 samples\n",
    "model.fit(data, one_hot_labels, epochs=10, batch_size=32)"
   ]
  },
  {
   "cell_type": "code",
   "execution_count": 11,
   "metadata": {},
   "outputs": [
    {
     "name": "stdout",
     "output_type": "stream",
     "text": [
      "[[87]\n",
      " [31]\n",
      " [ 3]\n",
      " [67]\n",
      " [41]]\n",
      "[0. 0. 0. 0. 0. 0. 0. 0. 0. 0. 0. 0. 0. 0. 0. 0. 0. 0. 0. 0. 0. 0. 0. 0.\n",
      " 0. 0. 0. 0. 0. 0. 0. 1. 0. 0. 0. 0. 0. 0. 0. 0. 0. 0. 0. 0. 0. 0. 0. 0.\n",
      " 0. 0. 0. 0. 0. 0. 0. 0. 0. 0. 0. 0. 0. 0. 0. 0. 0. 0. 0. 0. 0. 0. 0. 0.\n",
      " 0. 0. 0. 0. 0. 0. 0. 0. 0. 0. 0. 0. 0. 0. 0. 0. 0. 0. 0. 0. 0. 0. 0. 0.\n",
      " 0. 0. 0. 0. 0.]\n"
     ]
    }
   ],
   "source": [
    "print(labels[0:5])\n",
    "print(one_hot_labels[1])"
   ]
  }
 ],
 "metadata": {
  "kernelspec": {
   "display_name": "Python 3",
   "language": "python",
   "name": "python3"
  },
  "language_info": {
   "codemirror_mode": {
    "name": "ipython",
    "version": 3
   },
   "file_extension": ".py",
   "mimetype": "text/x-python",
   "name": "python",
   "nbconvert_exporter": "python",
   "pygments_lexer": "ipython3",
   "version": "3.6.6"
  }
 },
 "nbformat": 4,
 "nbformat_minor": 2
}
